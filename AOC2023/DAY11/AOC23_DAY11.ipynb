{
  "nbformat": 4,
  "nbformat_minor": 0,
  "metadata": {
    "colab": {
      "provenance": []
    },
    "kernelspec": {
      "name": "python3",
      "display_name": "Python 3"
    },
    "language_info": {
      "name": "python"
    }
  },
  "cells": [
    {
      "cell_type": "code",
      "execution_count": 10,
      "metadata": {
        "colab": {
          "base_uri": "https://localhost:8080/"
        },
        "id": "7eihO_6fRAkM",
        "outputId": "6645a8f6-e60c-4d6f-d572-452c89349445"
      },
      "outputs": [
        {
          "output_type": "stream",
          "name": "stdout",
          "text": [
            "10276166\n"
          ]
        }
      ],
      "source": [
        "# PART I\n",
        "\n",
        "import math\n",
        "\n",
        "f = open('input11.txt', 'r')\n",
        "\n",
        "galaxy = [[ch for ch in line.rstrip('\\n')] for line in f]\n",
        "\n",
        "row_length = len(galaxy[0])\n",
        "i = 0\n",
        "while i < len(galaxy):\n",
        "  row = galaxy[i]\n",
        "  if '#' not in row:\n",
        "    galaxy.insert(i+1, ['.']*row_length)\n",
        "    i += 1\n",
        "  i += 1\n",
        "\n",
        "col_length = len(galaxy)\n",
        "i = 0\n",
        "while i < col_length:\n",
        "  col = [row[i] for row in galaxy]\n",
        "  if '#' not in col:\n",
        "    for row in galaxy:\n",
        "      row.insert(i+1, '.')\n",
        "    i += 1\n",
        "  i += 1\n",
        "\n",
        "# print(len(galaxy))\n",
        "# print(len(galaxy[0]))\n",
        "\n",
        "stars = []\n",
        "for row in range(len(galaxy)):\n",
        "  for col in range(len(galaxy[0])):\n",
        "    if galaxy[row][col] == '#':\n",
        "      stars.append((row, col))\n",
        "\n",
        "pairs = []\n",
        "i = 0\n",
        "while i < len(stars):\n",
        "  j = i + 1\n",
        "  while j < len(stars):\n",
        "    pairs.append((stars[i], stars[j]))\n",
        "    j += 1\n",
        "  i += 1\n",
        "\n",
        "total_distance = 0\n",
        "for pair in pairs:\n",
        "  (x1, y1) = pair[0]\n",
        "  (x2, y2) = pair[1]\n",
        "  total_distance += abs(x1 - x2) + abs(y1 - y2)\n",
        "\n",
        "print(total_distance)\n"
      ]
    },
    {
      "cell_type": "code",
      "source": [
        "# PART II\n",
        "\n",
        "import math\n",
        "\n",
        "f = open('input11.txt', 'r')\n",
        "\n",
        "galaxy = [[ch for ch in line.rstrip('\\n')] for line in f]\n",
        "expanded_rows = set()\n",
        "expanded_columns = set()\n",
        "\n",
        "row_length = len(galaxy[0])\n",
        "for i, row in enumerate(galaxy):\n",
        "  row = galaxy[i]\n",
        "  if '#' not in row:\n",
        "    expanded_rows.add(i)\n",
        "\n",
        "col_length = len(galaxy)\n",
        "for i in range(col_length):\n",
        "  col = [row[i] for row in galaxy]\n",
        "  if '#' not in col:\n",
        "    expanded_columns.add(i)\n",
        "\n",
        "# print(expanded_rows)\n",
        "# print(expanded_columns)\n",
        "# print(len(galaxy))\n",
        "# print(len(galaxy[0]))\n",
        "\n",
        "stars = []\n",
        "for row in range(len(galaxy)):\n",
        "  for col in range(len(galaxy[0])):\n",
        "    if galaxy[row][col] == '#':\n",
        "      stars.append((row, col))\n",
        "\n",
        "pairs = []\n",
        "i = 0\n",
        "while i < len(stars):\n",
        "  j = i + 1\n",
        "  while j < len(stars):\n",
        "    pairs.append((stars[i], stars[j]))\n",
        "    j += 1\n",
        "  i += 1\n",
        "\n",
        "def expand_dist(input, expanded_set, x1, x2):\n",
        "  result = input\n",
        "  start = x2 if x1 > x2 else x1\n",
        "  stop = x1 if x1 > x2 else x2\n",
        "  for i in range(start+1, stop):\n",
        "    if i in expanded_set:\n",
        "      result += 999999\n",
        "  return result\n",
        "\n",
        "total_distance = 0\n",
        "for pair in pairs:\n",
        "  (x1, y1) = pair[0]\n",
        "  (x2, y2) = pair[1]\n",
        "  # print(pair)\n",
        "  # print(f'Normal distance: {abs(x1-x2)+abs(y1-y2)}')\n",
        "  x_dist = expand_dist(abs(x1 - x2), expanded_rows, x1, x2)\n",
        "  y_dist = expand_dist(abs(y1 - y2), expanded_columns, y1, y2)\n",
        "  # print(f'Expanded distance: {x_dist + y_dist}')\n",
        "  total_distance += x_dist + y_dist\n",
        "\n",
        "print(total_distance)"
      ],
      "metadata": {
        "colab": {
          "base_uri": "https://localhost:8080/"
        },
        "id": "Uqiv9iSTXPlq",
        "outputId": "93bb8205-b618-4e62-fce5-79220c3a41b4"
      },
      "execution_count": 20,
      "outputs": [
        {
          "output_type": "stream",
          "name": "stdout",
          "text": [
            "598693078798\n"
          ]
        }
      ]
    }
  ]
}