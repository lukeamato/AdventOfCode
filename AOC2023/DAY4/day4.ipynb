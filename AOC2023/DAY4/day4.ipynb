{
  "nbformat": 4,
  "nbformat_minor": 0,
  "metadata": {
    "colab": {
      "provenance": []
    },
    "kernelspec": {
      "name": "python3",
      "display_name": "Python 3"
    },
    "language_info": {
      "name": "python"
    }
  },
  "cells": [
    {
      "cell_type": "code",
      "source": [
        "# PART I\n",
        "f = open(\"input4.txt\", \"r\")\n",
        "total = 0\n",
        "\n",
        "for card in f:\n",
        "  numbers = card.split()\n",
        "  del numbers[:2]\n",
        "  my_numbers = set()\n",
        "  mine = True\n",
        "  value = 0\n",
        "  for n in numbers:\n",
        "    if n == '|':\n",
        "      mine = False\n",
        "      continue\n",
        "    if mine:\n",
        "      my_numbers.add(int(n))\n",
        "    else:\n",
        "      if int(n) in my_numbers:\n",
        "        if value:\n",
        "          value *= 2\n",
        "        else:\n",
        "          value = 1\n",
        "  total += value\n",
        "\n",
        "print(total)"
      ],
      "metadata": {
        "colab": {
          "base_uri": "https://localhost:8080/"
        },
        "id": "OK-1IILapD2_",
        "outputId": "de565d67-8270-423a-8381-750519c98f55"
      },
      "execution_count": 5,
      "outputs": [
        {
          "output_type": "stream",
          "name": "stdout",
          "text": [
            "22488\n"
          ]
        }
      ]
    },
    {
      "cell_type": "code",
      "source": [
        "# PART II\n",
        "f = open(\"input4.txt\", \"r\")\n",
        "total_scratchers = 0\n",
        "\n",
        "current_card_copies = 1\n",
        "future_card_copies = [0]*10\n",
        "for index, card in enumerate(f):\n",
        "  total_scratchers += current_card_copies\n",
        "  numbers = card.split()\n",
        "  del numbers[:2]\n",
        "  my_numbers = set()\n",
        "  mine = True\n",
        "  matches = 0\n",
        "  for n in numbers:\n",
        "    if n == '|':\n",
        "      mine = False\n",
        "      continue\n",
        "    if mine:\n",
        "      my_numbers.add(int(n))\n",
        "    else:\n",
        "      if int(n) in my_numbers:\n",
        "        matches += 1\n",
        "  while matches > 0:\n",
        "    future_card_copies[matches-1] += current_card_copies\n",
        "    matches -= 1\n",
        "  current_card_copies = 1 + future_card_copies.pop(0)\n",
        "  future_card_copies.append(0)\n",
        "\n",
        "print(total_scratchers)"
      ],
      "metadata": {
        "colab": {
          "base_uri": "https://localhost:8080/"
        },
        "id": "o89GUM5Ls4R-",
        "outputId": "35ba36ff-9a94-46ce-f651-5669cf0fb724"
      },
      "execution_count": 23,
      "outputs": [
        {
          "output_type": "stream",
          "name": "stdout",
          "text": [
            "7013204\n"
          ]
        }
      ]
    },
    {
      "cell_type": "code",
      "source": [
        "# PART II -- sample view\n",
        "f = open(\"input_sample.txt\", \"r\")\n",
        "total_scratchers = 0\n",
        "\n",
        "current_card_copies = 1\n",
        "future_card_copies = [0]*5\n",
        "for index, card in enumerate(f):\n",
        "  total_scratchers += current_card_copies\n",
        "  print(f'Card {str(index+1)}: {str(current_card_copies)}. Total: {total_scratchers}')\n",
        "  numbers = card.split()\n",
        "  del numbers[:2]\n",
        "  my_numbers = set()\n",
        "  mine = True\n",
        "  matches = 0\n",
        "  for n in numbers:\n",
        "    if n == '|':\n",
        "      mine = False\n",
        "      continue\n",
        "    if mine:\n",
        "      my_numbers.add(int(n))\n",
        "    else:\n",
        "      if int(n) in my_numbers:\n",
        "        matches += 1\n",
        "  print(f'Card {str(index+1)}: {str(matches)}')\n",
        "  while matches > 0:\n",
        "    future_card_copies[matches-1] += current_card_copies\n",
        "    matches -= 1\n",
        "  print('Future card copies after card ' + str(index+1) + ' ' + str(future_card_copies))\n",
        "  current_card_copies = 1 + future_card_copies.pop(0)\n",
        "  future_card_copies.append(0)\n",
        "\n",
        "print(total_scratchers)"
      ],
      "metadata": {
        "colab": {
          "base_uri": "https://localhost:8080/"
        },
        "id": "pJzX1ACnviin",
        "outputId": "dd819833-9a12-4f0c-ec14-e0c1f0b3dac1"
      },
      "execution_count": 22,
      "outputs": [
        {
          "output_type": "stream",
          "name": "stdout",
          "text": [
            "Card 1: 1. Total: 1\n",
            "Card 1: 4\n",
            "Future card copies after card 1 [1, 1, 1, 1, 0]\n",
            "Card 2: 2. Total: 3\n",
            "Card 2: 2\n",
            "Future card copies after card 2 [3, 3, 1, 0, 0]\n",
            "Card 3: 4. Total: 7\n",
            "Card 3: 2\n",
            "Future card copies after card 3 [7, 5, 0, 0, 0]\n",
            "Card 4: 8. Total: 15\n",
            "Card 4: 1\n",
            "Future card copies after card 4 [13, 0, 0, 0, 0]\n",
            "Card 5: 14. Total: 29\n",
            "Card 5: 0\n",
            "Future card copies after card 5 [0, 0, 0, 0, 0]\n",
            "Card 6: 1. Total: 30\n",
            "Card 6: 0\n",
            "Future card copies after card 6 [0, 0, 0, 0, 0]\n",
            "30\n"
          ]
        }
      ]
    }
  ]
}