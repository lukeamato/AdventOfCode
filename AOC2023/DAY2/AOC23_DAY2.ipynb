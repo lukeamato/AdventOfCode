{
  "nbformat": 4,
  "nbformat_minor": 0,
  "metadata": {
    "colab": {
      "provenance": []
    },
    "kernelspec": {
      "name": "python3",
      "display_name": "Python 3"
    },
    "language_info": {
      "name": "python"
    }
  },
  "cells": [
    {
      "cell_type": "code",
      "execution_count": 19,
      "metadata": {
        "colab": {
          "base_uri": "https://localhost:8080/"
        },
        "id": "3aGuCO5DO0qb",
        "outputId": "b4aa51c4-b684-4654-ea45-ff86e869e242"
      },
      "outputs": [
        {
          "output_type": "stream",
          "name": "stdout",
          "text": [
            "1931\n"
          ]
        }
      ],
      "source": [
        "# PART I\n",
        "\n",
        "limits = {\n",
        "  'red': 12,\n",
        "  'green': 13,\n",
        "  'blue': 14\n",
        "}\n",
        "\n",
        "\n",
        "IDs = []\n",
        "\n",
        "f = open('input2.txt', 'r')\n",
        "\n",
        "for line in f:\n",
        "  items = line.split(maxsplit=2)\n",
        "  games = [{x.split()[1]: int(x.split()[0]) for x in round.split(',')} for round in items[2].split(';')]\n",
        "  ID = int(items[1][:-1])\n",
        "\n",
        "  valid = True\n",
        "  for game in games:\n",
        "    for color, val in game.items():\n",
        "      if val > limits[color]:\n",
        "        valid = False\n",
        "        #print(f'{color}: {val} was not valid')\n",
        "  if valid:\n",
        "    IDs.append(ID)\n",
        "\n",
        "result = sum(IDs)\n",
        "print(result)\n"
      ]
    },
    {
      "cell_type": "code",
      "source": [
        "# PART II\n",
        "\n",
        "limits = {\n",
        "  'red': 12,\n",
        "  'green': 13,\n",
        "  'blue': 14\n",
        "}\n",
        "\n",
        "\n",
        "IDs = []\n",
        "\n",
        "f = open('input2.txt', 'r')\n",
        "\n",
        "result = 0\n",
        "\n",
        "for line in f:\n",
        "  minimums = {\n",
        "      'red': 0,\n",
        "      'green': 0,\n",
        "      'blue': 0\n",
        "  }\n",
        "  items = line.split(maxsplit=2)\n",
        "  games = [{x.split()[1]: int(x.split()[0]) for x in round.split(',')} for round in items[2].split(';')]\n",
        "  ID = int(items[1][:-1])\n",
        "\n",
        "  for game in games:\n",
        "    for color, val in game.items():\n",
        "      if val > minimums[color]:\n",
        "        minimums[color] = val\n",
        "  power = 1\n",
        "  for val in minimums.values():\n",
        "    power *= val\n",
        "  result += power\n",
        "\n",
        "print(result)"
      ],
      "metadata": {
        "colab": {
          "base_uri": "https://localhost:8080/"
        },
        "id": "RP1d36XLWNWD",
        "outputId": "01e86fa6-f6ef-4b6c-a153-a17ff3c013d3"
      },
      "execution_count": 20,
      "outputs": [
        {
          "output_type": "stream",
          "name": "stdout",
          "text": [
            "83105\n"
          ]
        }
      ]
    }
  ]
}