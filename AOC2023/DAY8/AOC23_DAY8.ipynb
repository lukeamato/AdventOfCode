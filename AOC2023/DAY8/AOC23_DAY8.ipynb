{
  "nbformat": 4,
  "nbformat_minor": 0,
  "metadata": {
    "colab": {
      "provenance": []
    },
    "kernelspec": {
      "name": "python3",
      "display_name": "Python 3"
    },
    "language_info": {
      "name": "python"
    }
  },
  "cells": [
    {
      "cell_type": "code",
      "execution_count": 21,
      "metadata": {
        "colab": {
          "base_uri": "https://localhost:8080/"
        },
        "id": "TCXuRnFNzl8g",
        "outputId": "c20e0bb7-bbd1-4d85-daad-5a51fd02603c"
      },
      "outputs": [
        {
          "output_type": "stream",
          "name": "stdout",
          "text": [
            "LRLRRLRLRLLRRRLLLRLLRRLLRRRLRLRLRRRLRRLRLRRRLRRRLRRRLRRRLRRLRRRLRRRLRRLLLRLLRLRRRLRRRLRRLRLRLRLRRRLRRRLRRRLRRLRRLRRLLRRLRRRLLRRLRRRLRRRLRRRLRLRRLRLRRRLRRLLRLRLLRLRLRRRLRLRRLLRRRLRLRLRLRLRLRRLRLRRLLLLRRLRRLRRRLRRLRRLRRRLRRLRRRLLRLRRLLRLRRLRRLRRLLRRRLRLRLRRRLRRLRLLRLRRRR\n",
            "\n",
            "19637\n"
          ]
        }
      ],
      "source": [
        "# PART I\n",
        "\n",
        "f = open('input8.txt', 'r')\n",
        "\n",
        "instructions = f.readline()\n",
        "print(instructions)\n",
        "\n",
        "class Node:\n",
        "  def __init__(self, key, left, right):\n",
        "    self.key = key\n",
        "    self.left = left\n",
        "    self.right = right\n",
        "\n",
        "  def __str__(self):\n",
        "    return f'{self.key}: ({self.left}, {self.right})'\n",
        "\n",
        "  def __repr__(self):\n",
        "    return f'{self.key}: ({self.left}, {self.right})'\n",
        "\n",
        "graph = {}\n",
        "\n",
        "for line in f:\n",
        "  items = line.split()\n",
        "  key = items[0]\n",
        "  left = items[2][1:4]\n",
        "  right = items[3][0:3]\n",
        "  graph[key] = Node(key, left, right)\n",
        "\n",
        "i = 0\n",
        "current_node = graph['AAA']\n",
        "num_turns = 0\n",
        "while current_node.key != 'ZZZ':\n",
        "  dir = instructions[i]\n",
        "  if dir == 'R':\n",
        "    current_node = graph[current_node.right]\n",
        "  else:\n",
        "    current_node = graph[current_node.left]\n",
        "  i += 1\n",
        "  if i >= len(instructions) - 1:\n",
        "    i = 0\n",
        "  num_turns += 1\n",
        "\n",
        "print(num_turns)\n"
      ]
    },
    {
      "cell_type": "code",
      "source": [
        "# PART II BRUTE FORCE\n",
        "\n",
        "f = open('input8.txt', 'r')\n",
        "\n",
        "instructions = f.readline()\n",
        "print(instructions)\n",
        "\n",
        "class Node:\n",
        "  def __init__(self, key, left, right):\n",
        "    self.key = key\n",
        "    self.left = left\n",
        "    self.right = right\n",
        "\n",
        "  def __str__(self):\n",
        "    return f'{self.key}: ({self.left}, {self.right})'\n",
        "\n",
        "  def __repr__(self):\n",
        "    return f'{self.key}: ({self.left}, {self.right})'\n",
        "\n",
        "graph = {}\n",
        "starting_nodes = []\n",
        "\n",
        "for line in f:\n",
        "  items = line.split()\n",
        "  key = items[0]\n",
        "  left = items[2][1:4]\n",
        "  right = items[3][0:3]\n",
        "  graph[key] = Node(key, left, right)\n",
        "  if key[-1] == 'A':\n",
        "    starting_nodes.append(graph[key])\n",
        "\n",
        "print(starting_nodes)\n",
        "\n",
        "i = 0\n",
        "current_nodes = starting_nodes\n",
        "num_turns = 0\n",
        "complete = False\n",
        "while not complete:\n",
        "  dir = instructions[i]\n",
        "  for ind, node in enumerate(current_nodes):\n",
        "    if dir == 'R':\n",
        "      current_nodes[ind] = graph[node.right]\n",
        "    else:\n",
        "      current_nodes[ind] = graph[node.left]\n",
        "  i += 1\n",
        "  if i >= len(instructions) - 1:\n",
        "    i = 0\n",
        "  num_turns += 1\n",
        "  if all(node.key[-1] == 'Z' for node in current_nodes):\n",
        "    complete = True\n",
        "\n",
        "  if num_turns > 500:\n",
        "    print('\\n\\nThis is taking too damn long')\n",
        "    complete = True\n"
      ],
      "metadata": {
        "colab": {
          "base_uri": "https://localhost:8080/"
        },
        "id": "RbXT6Qcv6vR-",
        "outputId": "3241399e-417d-41f6-c7c6-f8ccb69aaaa2"
      },
      "execution_count": 36,
      "outputs": [
        {
          "output_type": "stream",
          "name": "stdout",
          "text": [
            "LRLRRLRLRLLRRRLLLRLLRRLLRRRLRLRLRRRLRRLRLRRRLRRRLRRRLRRRLRRLRRRLRRRLRRLLLRLLRLRRRLRRRLRRLRLRLRLRRRLRRRLRRRLRRLRRLRRLLRRLRRRLLRRLRRRLRRRLRRRLRLRRLRLRRRLRRLLRLRLLRLRLRRRLRLRRLLRRRLRLRLRLRLRLRRLRLRRLLLLRRLRRLRRRLRRLRRLRRRLRRLRRRLLRLRRLLRLRRLRRLRRLLRRRLRLRLRRRLRRLRLLRLRRRR\n",
            "\n",
            "[AAA: (PFM, NLX), GSA: (QDG, DFV), QGA: (KMT, PPM), LHA: (DXP, FXH), LBA: (VTT, TFL), XCA: (RLL, VBV)]\n",
            "\n",
            "\n",
            "This is taking too damn long\n"
          ]
        }
      ]
    },
    {
      "cell_type": "code",
      "source": [
        "# FIND A PATTERN\n",
        "\n",
        "f = open('input8.txt', 'r')\n",
        "\n",
        "instructions = f.readline()\n",
        "print(instructions)\n",
        "\n",
        "class Node:\n",
        "  def __init__(self, key, left, right):\n",
        "    self.key = key\n",
        "    self.left = left\n",
        "    self.right = right\n",
        "\n",
        "  def __str__(self):\n",
        "    return f'{self.key}: ({self.left}, {self.right})'\n",
        "\n",
        "  def __repr__(self):\n",
        "    return f'{self.key}: ({self.left}, {self.right})'\n",
        "\n",
        "graph = {}\n",
        "starting_nodes = []\n",
        "\n",
        "for line in f:\n",
        "  items = line.split()\n",
        "  key = items[0]\n",
        "  left = items[2][1:4]\n",
        "  right = items[3][0:3]\n",
        "  graph[key] = Node(key, left, right)\n",
        "  if key[-1] == 'A':\n",
        "    starting_nodes.append(graph[key])\n",
        "\n",
        "print(starting_nodes)\n",
        "\n",
        "results = {}\n",
        "\n",
        "for node in starting_nodes:\n",
        "  intervals = []\n",
        "\n",
        "  i = 0\n",
        "  current_node = node\n",
        "  num_turns = 0\n",
        "  num_complete = 0\n",
        "  while num_complete < 5:\n",
        "    dir = instructions[i]\n",
        "    if dir == 'R':\n",
        "      current_node = graph[current_node.right]\n",
        "    else:\n",
        "      current_node = graph[current_node.left]\n",
        "    i += 1\n",
        "    if i >= len(instructions) - 1:\n",
        "      i = 0\n",
        "    num_turns += 1\n",
        "    if current_node.key[-1] == 'Z':\n",
        "      num_complete += 1\n",
        "      intervals.append(num_turns)\n",
        "      # print('Total: ' + str(num_turns))\n",
        "      # print('Interval: ' + str(num_turns - last_interval))\n",
        "      # print('\\n\\n')\n",
        "      # last_interval = num_turns\n",
        "\n",
        "  results[node.key] = intervals\n",
        "\n",
        "print('\\n')\n",
        "for key, value in results.items():\n",
        "  print(f'{key}: {value}')"
      ],
      "metadata": {
        "colab": {
          "base_uri": "https://localhost:8080/"
        },
        "id": "ZiN7JjE-_Sdj",
        "outputId": "8b1fba6e-2143-4b1a-e1c5-46c6a47dfd37"
      },
      "execution_count": 38,
      "outputs": [
        {
          "output_type": "stream",
          "name": "stdout",
          "text": [
            "LRLRRLRLRLLRRRLLLRLLRRLLRRRLRLRLRRRLRRLRLRRRLRRRLRRRLRRRLRRLRRRLRRRLRRLLLRLLRLRRRLRRRLRRLRLRLRLRRRLRRRLRRRLRRLRRLRRLLRRLRRRLLRRLRRRLRRRLRRRLRLRRLRLRRRLRRLLRLRLLRLRLRRRLRLRRLLRRRLRLRLRLRLRLRRLRLRRLLLLRRLRRLRRRLRRLRRLRRRLRRLRRRLLRLRRLLRLRRLRRLRRLLRRRLRLRLRRRLRRLRLLRLRRRR\n",
            "\n",
            "[AAA: (PFM, NLX), GSA: (QDG, DFV), QGA: (KMT, PPM), LHA: (DXP, FXH), LBA: (VTT, TFL), XCA: (RLL, VBV)]\n",
            "\n",
            "\n",
            "AAA: [19637, 39274, 58911, 78548, 98185]\n",
            "GSA: [12643, 25286, 37929, 50572, 63215]\n",
            "QGA: [14257, 28514, 42771, 57028, 71285]\n",
            "LHA: [15871, 31742, 47613, 63484, 79355]\n",
            "LBA: [11567, 23134, 34701, 46268, 57835]\n",
            "XCA: [19099, 38198, 57297, 76396, 95495]\n"
          ]
        }
      ]
    },
    {
      "cell_type": "code",
      "source": [
        "for item in results:\n",
        "  intervals = results[item]\n",
        "  base = intervals[0]\n",
        "  print(f'{item}: ')\n",
        "  pattern = [float(x)/base for x in intervals]\n",
        "  print(pattern)"
      ],
      "metadata": {
        "colab": {
          "base_uri": "https://localhost:8080/"
        },
        "id": "rWPqWpBEArqU",
        "outputId": "ce5bd7ed-82bf-40f3-abb1-988eebb09c25"
      },
      "execution_count": 39,
      "outputs": [
        {
          "output_type": "stream",
          "name": "stdout",
          "text": [
            "AAA: \n",
            "[1.0, 2.0, 3.0, 4.0, 5.0]\n",
            "GSA: \n",
            "[1.0, 2.0, 3.0, 4.0, 5.0]\n",
            "QGA: \n",
            "[1.0, 2.0, 3.0, 4.0, 5.0]\n",
            "LHA: \n",
            "[1.0, 2.0, 3.0, 4.0, 5.0]\n",
            "LBA: \n",
            "[1.0, 2.0, 3.0, 4.0, 5.0]\n",
            "XCA: \n",
            "[1.0, 2.0, 3.0, 4.0, 5.0]\n"
          ]
        }
      ]
    },
    {
      "cell_type": "code",
      "source": [
        "import math\n",
        "base = [results[x][0] for x in results]\n",
        "print(base)\n",
        "print(math.lcm(*base))"
      ],
      "metadata": {
        "colab": {
          "base_uri": "https://localhost:8080/"
        },
        "id": "ozwJI31vBdRt",
        "outputId": "9e81098b-a803-46de-9d83-ac63f045decf"
      },
      "execution_count": 34,
      "outputs": [
        {
          "output_type": "stream",
          "name": "stdout",
          "text": [
            "[19637, 12643, 14257, 15871, 11567, 19099]\n",
            "8811050362409\n"
          ]
        }
      ]
    }
  ]
}