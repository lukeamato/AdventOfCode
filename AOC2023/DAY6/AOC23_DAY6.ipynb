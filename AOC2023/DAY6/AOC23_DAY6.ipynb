{
  "nbformat": 4,
  "nbformat_minor": 0,
  "metadata": {
    "colab": {
      "provenance": []
    },
    "kernelspec": {
      "name": "python3",
      "display_name": "Python 3"
    },
    "language_info": {
      "name": "python"
    }
  },
  "cells": [
    {
      "cell_type": "code",
      "execution_count": 18,
      "metadata": {
        "colab": {
          "base_uri": "https://localhost:8080/"
        },
        "id": "5lU60An5igyr",
        "outputId": "a28c46c7-f963-4f84-d5d4-1958aa5674b0"
      },
      "outputs": [
        {
          "output_type": "stream",
          "name": "stdout",
          "text": [
            "140220\n"
          ]
        }
      ],
      "source": [
        "# PART I\n",
        "# SAMPLE\n",
        "\n",
        "# Equation for how long you will go in any given race:\n",
        "#\n",
        "#  secs button held down * (total time - secs button held down) = distance\n",
        "#  -x^2 + total time * x - distance = 0\n",
        "\n",
        "# We need to exceed the world record aka optimize this equation for each race\n",
        "\n",
        "from sympy import symbols\n",
        "from sympy.solvers import solve\n",
        "\n",
        "f = open('input6.txt', 'r')\n",
        "\n",
        "races = []\n",
        "times = f.readline().split()[1:]\n",
        "distances = f.readline().split()[1:]\n",
        "total_ways = 1\n",
        "\n",
        "for i, time in enumerate(times):\n",
        "  x = symbols('x')\n",
        "  expr = -(x**2) + int(time)*x - int(distances[i])\n",
        "  results = solve(expr, x)\n",
        "  if results[0].is_integer and not results[1].is_integer:\n",
        "    results[0] += 1.0\n",
        "  if results[1].is_integer:\n",
        "    results[1] -= 1.0\n",
        "  solutions = abs(int(results[1])-int(results[0]))\n",
        "\n",
        "  total_ways *= solutions\n",
        "\n",
        "print(total_ways)"
      ]
    },
    {
      "cell_type": "code",
      "source": [
        "# PART II\n",
        "\n",
        "from sympy import symbols\n",
        "from sympy.solvers import solve\n",
        "\n",
        "f = open('input6.txt', 'r')\n",
        "\n",
        "races = []\n",
        "times = f.readline().split()[1:]\n",
        "distances = f.readline().split()[1:]\n",
        "total_ways = 1\n",
        "\n",
        "time = ''\n",
        "for t in times: time += t\n",
        "distance = ''\n",
        "for d in distances: distance += d\n",
        "\n",
        "x = symbols('x')\n",
        "expr = -(x**2) + int(time)*x - int(distance)\n",
        "results = solve(expr, x)\n",
        "if results[0].is_integer and not results[1].is_integer:\n",
        "  results[0] += 1.0\n",
        "if results[1].is_integer:\n",
        "  results[1] -= 1.0\n",
        "solutions = abs(int(results[1])-int(results[0]))\n",
        "\n",
        "total_ways = solutions\n",
        "\n",
        "print(total_ways)"
      ],
      "metadata": {
        "colab": {
          "base_uri": "https://localhost:8080/"
        },
        "id": "0skjiUObuoGo",
        "outputId": "aaa7a0d2-eba9-4739-9f43-6f6b27fb4fe1"
      },
      "execution_count": 21,
      "outputs": [
        {
          "output_type": "stream",
          "name": "stdout",
          "text": [
            "39570185\n"
          ]
        }
      ]
    }
  ]
}